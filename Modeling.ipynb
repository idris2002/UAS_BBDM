{
  "nbformat": 4,
  "nbformat_minor": 0,
  "metadata": {
    "colab": {
      "provenance": []
    },
    "kernelspec": {
      "name": "python3",
      "display_name": "Python 3"
    },
    "language_info": {
      "name": "python"
    }
  },
  "cells": [
    {
      "cell_type": "code",
      "execution_count": 2,
      "metadata": {
        "colab": {
          "base_uri": "https://localhost:8080/"
        },
        "id": "46T4oozkbkod",
        "outputId": "77503d76-8b31-4e52-feb9-5bbc8e115d6f"
      },
      "outputs": [
        {
          "output_type": "stream",
          "name": "stdout",
          "text": [
            "Index(['ID', 'Penderita', 'Usia', 'Jenis_Kelamin', 'Wilayah', 'Diagnosa',\n",
            "       'Tanggal_Diagnosa', 'Tindakan', 'Pengobatan'],\n",
            "      dtype='object')\n",
            "   ID                Penderita  Usia Jenis_Kelamin      Wilayah      Diagnosa  \\\n",
            "0   1  H. Umaya Wibisono, M.Pd    20     Perempuan     Semarang    Retinopati   \n",
            "1   2           Jasmin Pertiwi    54     Laki-laki     Pasuruan  Hipermetropi   \n",
            "2   3      Dr. Warsita Siregar    55     Perempuan       Kupang    Retinopati   \n",
            "3   4    Tgk. Irwan Adriansyah    22     Laki-laki       Banjar         Miopi   \n",
            "4   5      drg. Jessica Melani    13     Laki-laki  Lhokseumawe  Hipermetropi   \n",
            "\n",
            "  Tanggal_Diagnosa      Tindakan       Pengobatan  \n",
            "0       2023-06-21       Operasi  Obat Tetes Mata  \n",
            "1       2025-01-03      Kacamata  Obat Tetes Mata  \n",
            "2       2023-07-19       Operasi      Terapi Mata  \n",
            "3       2023-03-01  Lensa Implan     Lensa Kontak  \n",
            "4       2024-03-02        Terapi       Obat Minum  \n",
            "<class 'pandas.core.frame.DataFrame'>\n",
            "RangeIndex: 1000 entries, 0 to 999\n",
            "Data columns (total 9 columns):\n",
            " #   Column            Non-Null Count  Dtype \n",
            "---  ------            --------------  ----- \n",
            " 0   ID                1000 non-null   int64 \n",
            " 1   Penderita         1000 non-null   object\n",
            " 2   Usia              1000 non-null   int64 \n",
            " 3   Jenis_Kelamin     1000 non-null   object\n",
            " 4   Wilayah           1000 non-null   object\n",
            " 5   Diagnosa          1000 non-null   object\n",
            " 6   Tanggal_Diagnosa  1000 non-null   object\n",
            " 7   Tindakan          1000 non-null   object\n",
            " 8   Pengobatan        1000 non-null   object\n",
            "dtypes: int64(2), object(7)\n",
            "memory usage: 70.4+ KB\n",
            "None\n",
            "                ID         Usia\n",
            "count  1000.000000  1000.000000\n",
            "mean    500.500000    43.430000\n",
            "std     288.819436    22.125294\n",
            "min       1.000000     5.000000\n",
            "25%     250.750000    24.000000\n",
            "50%     500.500000    43.000000\n",
            "75%     750.250000    63.000000\n",
            "max    1000.000000    80.000000\n"
          ]
        }
      ],
      "source": [
        "import pandas as pd\n",
        "from sklearn.model_selection import train_test_split\n",
        "from sklearn.ensemble import RandomForestClassifier\n",
        "from sklearn.metrics import accuracy_score\n",
        "\n",
        "\n",
        "data = pd.read_csv(\"dataset_kesehatan_mata.csv\")\n",
        "\n",
        "\n",
        "print(data.columns)\n",
        "\n",
        "print(data.head())\n",
        "print(data.info())\n",
        "print(data.describe())\n",
        "\n",
        "\n",
        "data.isnull().sum()\n",
        "data.fillna(data.mode(), inplace=True)\n",
        "X = data.drop(['ID', 'Penderita', 'Tanggal_Diagnosa', 'Diagnosa'], axis=1)\n",
        "y = data['Diagnosa']\n",
        "\n",
        "\n",
        "X_train, X_test, y_train, y_test = train_test_split(X, y, test_size=0.2, random_state=42)\n",
        "\n",
        "\n",
        "model = RandomForestClassifier()\n"
      ]
    }
  ]
}